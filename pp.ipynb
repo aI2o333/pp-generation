{
 "cells": [
  {
   "cell_type": "code",
   "execution_count": 2,
   "metadata": {},
   "outputs": [],
   "source": [
    "import numpy as np\n",
    "from scipy.linalg import lstsq\n",
    "from scipy.linalg import null_space\n",
    "from scipy.integrate import quad\n"
   ]
  },
  {
   "cell_type": "code",
   "execution_count": 4,
   "metadata": {},
   "outputs": [
    {
     "data": {
      "text/plain": [
       "'# 定义p(r)\\ndef p_r(r, c):\\n    p_r = c[0]+sum(c[i] * r**i for i in range(2, len(c)))\\n    return p_r\\n\\ndef dp_r(r, c):\\n    dp_r = sum(i * c[i] * r**(i-1) for i in range(2, len(c)))\\n    return dp_r\\n\\ndef ddp_r(r, c):\\n    ddp_r = sum(i * (i-1) * c[i] * r**(i-2) for i in range(2, len(c)))\\n    return ddp_r'"
      ]
     },
     "execution_count": 4,
     "metadata": {},
     "output_type": "execute_result"
    }
   ],
   "source": [
    "'''# 定义p(r)\n",
    "def p_r(r, c):\n",
    "    p_r = c[0]+sum(c[i] * r**i for i in range(2, len(c)))\n",
    "    return p_r\n",
    "\n",
    "def dp_r(r, c):\n",
    "    dp_r = sum(i * c[i] * r**(i-1) for i in range(2, len(c)))\n",
    "    return dp_r\n",
    "\n",
    "def ddp_r(r, c):\n",
    "    ddp_r = sum(i * (i-1) * c[i] * r**(i-2) for i in range(2, len(c)))\n",
    "    return ddp_r'''"
   ]
  },
  {
   "cell_type": "code",
   "execution_count": 11,
   "metadata": {},
   "outputs": [
    {
     "name": "stdout",
     "output_type": "stream",
     "text": [
      "[[ 1.  4.  8. 16.]\n",
      " [ 0.  4. 12. 32.]\n",
      " [ 0.  2. 12. 48.]]\n",
      "[[-0.54206174]\n",
      " [ 0.71018657]\n",
      " [-0.44248385]\n",
      " [ 0.07753806]]\n",
      "4\n"
     ]
    }
   ],
   "source": [
    "#小写p(r)系列构建关于c0, c2, c3, c4的线性方程组\n",
    "#range(i, j) produces i, i+1, i+2, ..., j-1. start defaults to 0\n",
    "def p_r(r):\n",
    "    A=np.zeros(4)\n",
    "    A[0]=1\n",
    "    for i in range(1,len(A)):\n",
    "        A[i]=r**(i+1)\n",
    "    return A\n",
    "\n",
    "def dp_r(r):\n",
    "    dA=np.zeros(4)\n",
    "    for i in range(1,len(A)):\n",
    "        dA[i]=(i+1)*r**(i)\n",
    "    return dA\n",
    "\n",
    "def ddp_r(r):\n",
    "    ddA=np.zeros(4)\n",
    "    for i in range(1,len(A)):\n",
    "        ddA[i]=i*(i+1)*r**(i-1)\n",
    "    return ddA\n",
    "# A[0]~c_0, A[1]~c_2, A[2]~c_3, A[3]~c_4\n",
    "\n",
    "'''p_3p=np.array([p_r(2.14),dp_r(2.14),ddp_r(2.14)])\n",
    "print(p_3p)\n",
    "print(null_space(p_3p))'''\n",
    "\n",
    "#l_vec(r)写出关于线性方程组的矩阵\n",
    "def l_vec(r):\n",
    "    return np.array([p_r(r), dp_r(r), ddp_r(r)])\n",
    "\n",
    "print(l_vec(2))\n",
    "print(null_space(l_vec(2.14)))\n",
    "A=np.zeros(4)\n",
    "print(len(A))"
   ]
  },
  {
   "cell_type": "code",
   "execution_count": 18,
   "metadata": {},
   "outputs": [
    {
     "name": "stdout",
     "output_type": "stream",
     "text": [
      "15\n"
     ]
    }
   ],
   "source": [
    "#大写P是rR_AE的代指，此处已经经过在截断半径处的局部三次多项式拟合\n",
    "def P(r, coeff):\n",
    "    return sum(coeff[i] * r**i for i in range(0, len(coeff)))\n",
    "\n",
    "def dP(r, coeff):\n",
    "    return sum(i * coeff[i] * r**(i-1) for i in range(0, len(coeff)))\n",
    "\n",
    "def ddP(r, coeff):  \n",
    "    return sum(i * (i-1) * coeff[i] * r**(i-2) for i in range(0, len(coeff)))\n",
    "\n",
    "'''de0_3p=np.log(abs(P(2.14,coeff_3p)/2.14**2))\n",
    "de1_3p=dP(2.14,coeff_3p)/P(2.14,coeff_3p)-2/2.14\n",
    "de2_3p=ddP(2.14,coeff_3p)/P(2.14,coeff_3p)-\\\n",
    "(dP(2.14,coeff_3p)/P(2.14,coeff_3p))**2+2/2.14**2\n",
    "print(de0_3p)'''\n",
    "\n",
    "def r_vec(r,coeff,l):\n",
    "    de0=np.log(abs(P(r,coeff)/r**(l+1)))\n",
    "    de1=dP(r,coeff)/P(r,coeff)-(l+1)/r\n",
    "    de2=ddP(r,coeff)/P(r,coeff)-\\\n",
    "    (dP(r,coeff)/P(r,coeff))**2+(l+1)/r**2\n",
    "    return np.array([de0,de1,de2])\n",
    "\n",
    "coeff=np.array([1,1,1,1])\n",
    "print(P(2,coeff))"
   ]
  },
  {
   "cell_type": "code",
   "execution_count": 31,
   "metadata": {},
   "outputs": [
    {
     "name": "stdout",
     "output_type": "stream",
     "text": [
      "[-1.99925024 -0.93134112 -0.126824  ]\n",
      "[[ 1.          4.5796      9.800344   20.97273616]\n",
      " [ 0.          4.28       13.7388     39.201376  ]\n",
      " [ 0.          2.         12.84       54.9552    ]]\n",
      "广义解: [-0.69651895 -0.46457754  0.10584358 -0.01013008]\n",
      "矩阵的秩: 3\n",
      "奇异值: [73.81423413  6.4451246   0.74489052]\n"
     ]
    }
   ],
   "source": [
    "coeff_3p=np.array([1.04066,-1.95036,0.73568,-0.08737])\n",
    "r_vec_3p=r_vec(2.14,coeff_3p,1)\n",
    "l_vec_3p=l_vec(2.14)\n",
    "print(r_vec_3p)\n",
    "print(l_vec_3p)\n",
    "\n",
    "x, residuals, rank, s = lstsq(l_vec_3p,r_vec_3p)\n",
    "\n",
    "print(\"广义解:\", x)\n",
    "print(\"矩阵的秩:\", rank)\n",
    "print(\"奇异值:\", s)"
   ]
  },
  {
   "cell_type": "code",
   "execution_count": 28,
   "metadata": {},
   "outputs": [
    {
     "name": "stdout",
     "output_type": "stream",
     "text": [
      "0.03138588716997054\n"
     ]
    }
   ],
   "source": [
    "def I_left(x,null_space,c,l,r_c):\n",
    "    def integrand(r):\n",
    "        exponent=x[0]+null_space[0]*c+(x[1]+null_space[1]*c)*r**2+\\\n",
    "        (x[2]+null_space[2]*c)*r**3+(x[3]+null_space[3]*c)*r**4\n",
    "        return r**(2*l+2)*np.exp(exponent)\n",
    "    return quad(integrand,0,r_c)[0]\n",
    "\n",
    "# 定义误差函数\n",
    "def F(I_right, x, null_space, c, l, r_c):\n",
    "    return I_left(x,null_space,c,l,r_c) - I_right\n",
    "\n",
    "print(F(0.3,x,null_space(l_vec(2.14)),100,1,2.14))"
   ]
  },
  {
   "cell_type": "code",
   "execution_count": 35,
   "metadata": {},
   "outputs": [],
   "source": [
    "def false_position_method(I_right, c_low, c_high, l, r_c, x, null_space, tol=1e-4, max_iter=500):\n",
    "    i=0\n",
    "    for i in range(max_iter):\n",
    "        # 计算两端误差值\n",
    "        f_low = F(I_right, x, null_space, c_low, l, r_c)\n",
    "        f_high = F(I_right, x, null_space, c_high, l, r_c)\n",
    "\n",
    "        # 更新新点\n",
    "        c_new = c_low - f_low * (c_high - c_low) / (f_high - f_low)\n",
    "        f_new = F(I_right, x, null_space, c_new, l, r_c)\n",
    "\n",
    "        # 检查收敛\n",
    "        if abs(f_new) < tol:\n",
    "            return c_new\n",
    "\n",
    "        # 更新区间\n",
    "        if f_new * f_low < 0:\n",
    "            c_high = c_new\n",
    "            i = i+1\n",
    "        else:\n",
    "            c_low = c_new\n",
    "            i = i+1\n",
    "\n",
    "    raise ValueError(\"未能收敛\")"
   ]
  },
  {
   "cell_type": "code",
   "execution_count": 36,
   "metadata": {},
   "outputs": [
    {
     "name": "stdout",
     "output_type": "stream",
     "text": [
      "1633.2478522195697\n"
     ]
    }
   ],
   "source": [
    "I_r_3p=0.337544969\n",
    "c_3p=false_position_method(I_r_3p, -0.5, 0.5, 1, 2.14, x, null_space(l_vec(2.14)))\n",
    "print(c_3p)"
   ]
  },
  {
   "cell_type": "code",
   "execution_count": 17,
   "metadata": {},
   "outputs": [
    {
     "name": "stdout",
     "output_type": "stream",
     "text": [
      "[-886.01768836 1159.44611693 -722.57994737  126.62873516]\n"
     ]
    },
    {
     "name": "stderr",
     "output_type": "stream",
     "text": [
      "C:\\Users\\msy_b\\AppData\\Local\\Temp\\ipykernel_20012\\3256658590.py:3: DeprecationWarning: Conversion of an array with ndim > 0 to a scalar is deprecated, and will error in future. Ensure you extract a single element from your array before performing this operation. (Deprecated NumPy 1.25.)\n",
      "  x[i]=x[i]+null_space[i]*c\n"
     ]
    }
   ],
   "source": [
    "def cal(x, null_space,c):\n",
    "    for i in range(len(x)):\n",
    "        x[i]=x[i]+null_space[i]*c\n",
    "    return x\n",
    "\n",
    "x1=cal(x,null_space(l_vec(2.14)),c_3p)\n",
    "print(x1)"
   ]
  }
 ],
 "metadata": {
  "kernelspec": {
   "display_name": "Python 3",
   "language": "python",
   "name": "python3"
  },
  "language_info": {
   "codemirror_mode": {
    "name": "ipython",
    "version": 3
   },
   "file_extension": ".py",
   "mimetype": "text/x-python",
   "name": "python",
   "nbconvert_exporter": "python",
   "pygments_lexer": "ipython3",
   "version": "3.12.2"
  }
 },
 "nbformat": 4,
 "nbformat_minor": 2
}
