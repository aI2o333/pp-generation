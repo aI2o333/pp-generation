{
 "cells": [
  {
   "cell_type": "code",
   "execution_count": 4,
   "metadata": {},
   "outputs": [],
   "source": [
    "import numpy as np\n",
    "from scipy.linalg import lstsq\n",
    "from scipy.linalg import null_space\n",
    "from scipy.integrate import quad\n",
    "import pandas as pd\n",
    "import openpyxl  # 使用pd.read_excel中需要保证openpyxl库已安装，但可以不导入。\n"
   ]
  },
  {
   "cell_type": "code",
   "execution_count": 5,
   "metadata": {},
   "outputs": [
    {
     "name": "stdout",
     "output_type": "stream",
     "text": [
      "              r            3P        3S            2P        2S        1S\n",
      "0      0.000000  0.000000e+00  0.000000  0.000000e+00  0.000000  0.000000\n",
      "1      0.000065  8.533000e-08  0.000502  3.660390e-07  0.001746  0.006586\n",
      "2      0.000066  8.670600e-08  0.000506  3.719410e-07  0.001760  0.006639\n",
      "3      0.000066  8.810400e-08  0.000510  3.779390e-07  0.001774  0.006692\n",
      "4      0.000067  8.952500e-08  0.000514  3.840330e-07  0.001788  0.006746\n",
      "...         ...           ...       ...           ...       ...       ...\n",
      "1775  94.911290  0.000000e+00  0.000000  0.000000e+00  0.000000  0.000000\n",
      "1776  95.673626  0.000000e+00  0.000000  0.000000e+00  0.000000  0.000000\n",
      "1777  96.442085  0.000000e+00  0.000000  0.000000e+00  0.000000  0.000000\n",
      "1778  97.216716  0.000000e+00  0.000000  0.000000e+00  0.000000  0.000000\n",
      "1779  97.997569  0.000000e+00  0.000000  0.000000e+00  0.000000  0.000000\n",
      "\n",
      "[1780 rows x 6 columns]\n"
     ]
    }
   ],
   "source": [
    "wf = pd.read_excel(\n",
    "    r'D:\\研究死\\电子结构与理论计算\\补充材料\\ncpp\\wavefunc.xlsx', \n",
    "    sheet_name=\"Sheet1\",  # 选择特定工作表\n",
    "    nrows=1780,             # 只读取 10 行\n",
    "    usecols=\"A:F\"         # 读取 A 到 D 列\n",
    ")\n",
    "print(wf)"
   ]
  },
  {
   "cell_type": "code",
   "execution_count": 6,
   "metadata": {},
   "outputs": [
    {
     "name": "stdout",
     "output_type": "stream",
     "text": [
      "[0.00000000e+00 6.51344260e-05 6.56575910e-05 ... 9.64420848e+01\n",
      " 9.72167158e+01 9.79975688e+01]\n"
     ]
    }
   ],
   "source": [
    "\n",
    "#r_0 = pd.to_numeric(wf['r'], errors='coerce').values\n",
    "r_0=wf['r'].values\n",
    "P_3=wf['3P'].values\n",
    "P_2=wf['2P'].values\n",
    "S_3=wf['3S'].values\n",
    "S_2=wf['2S'].values\n",
    "S_1=wf['1S'].values\n",
    "print(r_0)\n",
    "\n",
    "\n"
   ]
  },
  {
   "cell_type": "code",
   "execution_count": 7,
   "metadata": {},
   "outputs": [
    {
     "name": "stdout",
     "output_type": "stream",
     "text": [
      "[[ 1.  4.  8. 16.]\n",
      " [ 0.  4. 12. 32.]\n",
      " [ 0.  2. 12. 48.]]\n",
      "[[-0.54206174]\n",
      " [ 0.71018657]\n",
      " [-0.44248385]\n",
      " [ 0.07753806]]\n",
      "4\n"
     ]
    }
   ],
   "source": [
    "#小写p(r)系列构建关于c0, c2, c3, c4的线性方程组\n",
    "#range(i, j) produces i, i+1, i+2, ..., j-1. start defaults to 0\n",
    "def p_r(r):\n",
    "    A=np.zeros(4)\n",
    "    A[0]=1\n",
    "    for i in range(1,len(A)):\n",
    "        A[i]=r**(i+1)\n",
    "    return A\n",
    "\n",
    "def dp_r(r):\n",
    "    dA=np.zeros(4)\n",
    "    for i in range(1,4):\n",
    "        dA[i]=(i+1)*r**(i)\n",
    "    return dA\n",
    "\n",
    "def ddp_r(r):\n",
    "    ddA=np.zeros(4)\n",
    "    for i in range(1,4):\n",
    "        ddA[i]=i*(i+1)*r**(i-1)\n",
    "    return ddA\n",
    "# A[0]~c_0, A[1]~c_2, A[2]~c_3, A[3]~c_4\n",
    "\n",
    "'''p_3p=np.array([p_r(2.14),dp_r(2.14),ddp_r(2.14)])\n",
    "print(p_3p)\n",
    "print(null_space(p_3p))'''\n",
    "\n",
    "#l_vec(r)写出关于线性方程组的矩阵\n",
    "def l_vec(r):\n",
    "    return np.array([p_r(r), dp_r(r), ddp_r(r)])\n",
    "\n",
    "print(l_vec(2))\n",
    "print(null_space(l_vec(2.14)))\n",
    "A=np.zeros(4)\n",
    "print(len(A))"
   ]
  },
  {
   "cell_type": "code",
   "execution_count": 8,
   "metadata": {},
   "outputs": [
    {
     "name": "stdout",
     "output_type": "stream",
     "text": [
      "[-0.08737399  0.73568108 -1.95035797  1.04065984]\n"
     ]
    }
   ],
   "source": [
    "def coeff_generation(r, orbital):\n",
    "    closest_index = np.argmin(np.abs(r_0 - r))  # 找到最接近值的索引\n",
    "    start_index = closest_index-5\n",
    "    end_index = closest_index+6\n",
    "    r_new = r_0[start_index:end_index]\n",
    "    orbital_new = orbital[start_index:end_index]\n",
    "    coefficients = np.polyfit(r_new, orbital_new, 3)\n",
    "    return coefficients\n",
    "print(coeff_generation(2.14, P_3))\n",
    "#大写P是rR_AE的代指，此处已经经过在截断半径处的局部三次多项式拟合\n",
    "def P(r, coeff):\n",
    "    return sum(coeff[3-i] * r**i for i in range(0, len(coeff)))\n",
    "\n",
    "def dP(r, coeff):\n",
    "    return sum(i * coeff[3-i] * r**(i-1) for i in range(0, len(coeff)))\n",
    "\n",
    "def ddP(r, coeff):  \n",
    "    return sum(i * (i-1) * coeff[3-i] * r**(i-2) for i in range(0, len(coeff)))\n",
    "\n",
    "def r_vec(r,orbital,l):\n",
    "    coeff=coeff_generation(r,orbital)\n",
    "\n",
    "    de0=np.log(abs(P(r,coeff)/r**(l+1)))\n",
    "    de1=dP(r,coeff)/P(r,coeff)-(l+1)/r\n",
    "    de2=ddP(r,coeff)/P(r,coeff)-\\\n",
    "    (dP(r,coeff)/P(r,coeff))**2+(l+1)/r**2\n",
    "    return np.array([de0,de1,de2])\n"
   ]
  },
  {
   "cell_type": "code",
   "execution_count": 9,
   "metadata": {},
   "outputs": [
    {
     "name": "stdout",
     "output_type": "stream",
     "text": [
      "[-1.99920184 -0.93126352 -0.12671804]\n",
      "[[ 1.          4.5796      9.800344   20.97273616]\n",
      " [ 0.          4.28       13.7388     39.201376  ]\n",
      " [ 0.          2.         12.84       54.9552    ]]\n",
      "广义解: [-0.69651488 -0.46457527  0.1058426  -0.010128  ]\n",
      "矩阵的秩: 3\n",
      "奇异值: [73.81423413  6.4451246   0.74489052]\n"
     ]
    }
   ],
   "source": [
    "r_vec_3p=r_vec(2.14,P_3,1)\n",
    "l_vec_3p=l_vec(2.14)\n",
    "print(r_vec_3p)\n",
    "print(l_vec_3p)\n",
    "\n",
    "x, residuals, rank, s = lstsq(l_vec_3p,r_vec_3p)\n",
    "\n",
    "print(\"广义解:\", x)\n",
    "print(\"矩阵的秩:\", rank)\n",
    "print(\"奇异值:\", s)"
   ]
  },
  {
   "cell_type": "code",
   "execution_count": 10,
   "metadata": {},
   "outputs": [
    {
     "name": "stdout",
     "output_type": "stream",
     "text": [
      "0.32903296751654143\n"
     ]
    },
    {
     "name": "stderr",
     "output_type": "stream",
     "text": [
      "C:\\Users\\msy_b\\AppData\\Local\\Temp\\ipykernel_33876\\2655798078.py:7: DeprecationWarning: `trapz` is deprecated. Use `trapezoid` instead, or one of the numerical integration functions in `scipy.integrate`.\n",
      "  I_right=np.trapz(o_new,r_new)\n"
     ]
    }
   ],
   "source": [
    "def I_right(r,orbital):\n",
    "    closest_index=  np.argmin(np.abs(r_0 - r))\n",
    "    end_index = closest_index\n",
    "    r_new = r_0[:end_index]\n",
    "    orbital_new = orbital[:end_index]\n",
    "    o_new=orbital_new**2\n",
    "    I_right=np.trapz(o_new,r_new)\n",
    "    return I_right\n",
    "\n",
    "I_r_3p=I_right(2.14,P_3)\n",
    "print(I_r_3p)"
   ]
  },
  {
   "cell_type": "code",
   "execution_count": 11,
   "metadata": {},
   "outputs": [
    {
     "name": "stdout",
     "output_type": "stream",
     "text": [
      "0.47849873201181586\n"
     ]
    }
   ],
   "source": [
    "def I_left(x,null_space,c,l,r_c):\n",
    "    def integrand(r):\n",
    "        exponent=x[0]+null_space[0]*c+(x[1]+null_space[1]*c)*r**2+\\\n",
    "        (x[2]+null_space[2]*c)*r**3+(x[3]+null_space[3]*c)*r**4\n",
    "        return r**(2*l+2)*np.exp(exponent)\n",
    "    return quad(integrand,0,r_c)[0]\n",
    "\n",
    "# 定义误差函数\n",
    "def F(I_right, x, null_space, c, l, r_c):\n",
    "    return I_left(x,null_space,c,l,r_c) - I_right\n",
    "\n",
    "print(F(0.3,x,null_space(l_vec(2.14)),100,1,2.14))"
   ]
  },
  {
   "cell_type": "code",
   "execution_count": 12,
   "metadata": {},
   "outputs": [
    {
     "name": "stdout",
     "output_type": "stream",
     "text": [
      "[  2.56739001 -13.3602284    3.22262921]\n",
      "[[1.0000e+00 2.2500e-02 3.3750e-03 5.0625e-04]\n",
      " [0.0000e+00 3.0000e-01 6.7500e-02 1.3500e-02]\n",
      " [0.0000e+00 2.0000e+00 9.0000e-01 2.7000e-01]]\n",
      "广义解: [  3.90299167 -87.34455989 175.44676067  74.10986809]\n",
      "[[-1.56543861e-04]\n",
      " [ 4.17450295e-02]\n",
      " [-3.71066929e-01]\n",
      " [ 9.27667323e-01]]\n",
      "0.2505100443405578\n"
     ]
    },
    {
     "name": "stderr",
     "output_type": "stream",
     "text": [
      "C:\\Users\\msy_b\\AppData\\Local\\Temp\\ipykernel_33876\\2655798078.py:7: DeprecationWarning: `trapz` is deprecated. Use `trapezoid` instead, or one of the numerical integration functions in `scipy.integrate`.\n",
      "  I_right=np.trapz(o_new,r_new)\n"
     ]
    }
   ],
   "source": [
    "r_vec_1s=r_vec(0.15,S_1,0)\n",
    "l_vec_1s=l_vec(0.15)\n",
    "print(r_vec_1s)\n",
    "print(l_vec_1s)\n",
    "\n",
    "x_1s, residuals, rank, s = lstsq(l_vec_1s,r_vec_1s)\n",
    "\n",
    "print(\"广义解:\", x_1s)\n",
    "print(null_space(l_vec_1s))\n",
    "\n",
    "I_r_1s=I_right(0.15,S_1)\n",
    "print(F(I_r_1s,x_1s,null_space(l_vec(0.15)),-50000,0,0.15))"
   ]
  },
  {
   "cell_type": "code",
   "execution_count": 13,
   "metadata": {},
   "outputs": [
    {
     "name": "stdout",
     "output_type": "stream",
     "text": [
      "[ 2.15148296 -5.15298794  2.87403202]\n",
      "[[1.         0.1521     0.059319   0.02313441]\n",
      " [0.         0.78       0.4563     0.237276  ]\n",
      " [0.         2.         2.34       1.8252    ]]\n",
      "0.3209503923523762\n"
     ]
    },
    {
     "name": "stderr",
     "output_type": "stream",
     "text": [
      "C:\\Users\\msy_b\\AppData\\Local\\Temp\\ipykernel_33876\\2655798078.py:7: DeprecationWarning: `trapz` is deprecated. Use `trapezoid` instead, or one of the numerical integration functions in `scipy.integrate`.\n",
      "  I_right=np.trapz(o_new,r_new)\n"
     ]
    }
   ],
   "source": [
    "r_vec_2p=r_vec(0.39,P_2,1)\n",
    "l_vec_2p=l_vec(0.39)\n",
    "print(r_vec_2p)\n",
    "print(l_vec_2p)\n",
    "\n",
    "x_2p, residuals, rank, s = lstsq(l_vec_2p,r_vec_2p)\n",
    "\n",
    "\n",
    "I_r_2p=I_right(0.39,P_2)\n",
    "print(F(I_r_2p,x_2p,null_space(l_vec(0.39)),-2000,1,0.46))"
   ]
  },
  {
   "cell_type": "code",
   "execution_count": 14,
   "metadata": {},
   "outputs": [],
   "source": [
    "def cal(x, null_space,c):\n",
    "    for i in range(len(x)):\n",
    "        x[i]=x[i]+null_space[i]*c\n",
    "    return x\n",
    "\n"
   ]
  },
  {
   "cell_type": "code",
   "execution_count": 15,
   "metadata": {},
   "outputs": [],
   "source": [
    "def false_position_method(orbital, c_low, c_high, l, r_c, tol=1e-4, max_iter=500):\n",
    "    i=0\n",
    "    I_right1=I_right(r_c,orbital)\n",
    "    l_vec1=l_vec(r_c)\n",
    "    r_vec1=r_vec(r_c,orbital,l)\n",
    "    x, residuals, rank, s = lstsq(l_vec1,r_vec1)\n",
    "    null_space1=null_space(l_vec1)\n",
    "    for i in range(max_iter):\n",
    "        # 计算两端误差值\n",
    "        f_low = F(I_right1, x, null_space1, c_low, l, r_c)\n",
    "        f_high = F(I_right1, x, null_space1, c_high, l, r_c)\n",
    "\n",
    "        # 更新新点\n",
    "        c_new = c_low - f_low * (c_high - c_low) / (f_high - f_low)\n",
    "        f_new = F(I_right1, x, null_space1, c_new, l, r_c)\n",
    "\n",
    "        # 检查收敛\n",
    "        if abs(f_new) < tol:\n",
    "            return cal(x, null_space1, c_new)\n",
    "\n",
    "        # 更新区间\n",
    "        if f_new * f_low < 0:\n",
    "            c_high = c_new\n",
    "            i = i+1\n",
    "        else:\n",
    "            c_low = c_new\n",
    "            i = i+1\n",
    "\n",
    "    raise ValueError(\"未能收敛\")"
   ]
  },
  {
   "cell_type": "code",
   "execution_count": 17,
   "metadata": {},
   "outputs": [
    {
     "name": "stderr",
     "output_type": "stream",
     "text": [
      "C:\\Users\\msy_b\\AppData\\Local\\Temp\\ipykernel_33876\\2655798078.py:7: DeprecationWarning: `trapz` is deprecated. Use `trapezoid` instead, or one of the numerical integration functions in `scipy.integrate`.\n",
      "  I_right=np.trapz(o_new,r_new)\n"
     ]
    },
    {
     "name": "stdout",
     "output_type": "stream",
     "text": [
      "[-960.98371524 1257.66347133 -783.77456026  137.35209212]\n"
     ]
    },
    {
     "name": "stderr",
     "output_type": "stream",
     "text": [
      "C:\\Users\\msy_b\\AppData\\Local\\Temp\\ipykernel_33876\\2359091353.py:3: DeprecationWarning: Conversion of an array with ndim > 0 to a scalar is deprecated, and will error in future. Ensure you extract a single element from your array before performing this operation. (Deprecated NumPy 1.25.)\n",
      "  x[i]=x[i]+null_space[i]*c\n"
     ]
    }
   ],
   "source": [
    "c_3p=false_position_method(P_3, -0.5, 0.5, 1, 2.14)\n",
    "print(c_3p)\n",
    "\n"
   ]
  },
  {
   "cell_type": "code",
   "execution_count": 18,
   "metadata": {},
   "outputs": [
    {
     "name": "stdout",
     "output_type": "stream",
     "text": [
      "[ 1.13469059e+01 -2.07238834e+03  1.78202804e+04 -4.40379742e+04]\n"
     ]
    },
    {
     "name": "stderr",
     "output_type": "stream",
     "text": [
      "C:\\Users\\msy_b\\AppData\\Local\\Temp\\ipykernel_33876\\2655798078.py:7: DeprecationWarning: `trapz` is deprecated. Use `trapezoid` instead, or one of the numerical integration functions in `scipy.integrate`.\n",
      "  I_right=np.trapz(o_new,r_new)\n",
      "C:\\Users\\msy_b\\AppData\\Local\\Temp\\ipykernel_33876\\2359091353.py:3: DeprecationWarning: Conversion of an array with ndim > 0 to a scalar is deprecated, and will error in future. Ensure you extract a single element from your array before performing this operation. (Deprecated NumPy 1.25.)\n",
      "  x[i]=x[i]+null_space[i]*c\n"
     ]
    }
   ],
   "source": [
    "c_1s=false_position_method(S_1, -50000, -40000, 0, 0.15,1e-4,1000)\n",
    "print(c_1s)"
   ]
  },
  {
   "cell_type": "code",
   "execution_count": 19,
   "metadata": {},
   "outputs": [
    {
     "name": "stdout",
     "output_type": "stream",
     "text": [
      "[   5.77534861 -122.44684585  350.39037189 -287.61894479]\n"
     ]
    },
    {
     "name": "stderr",
     "output_type": "stream",
     "text": [
      "C:\\Users\\msy_b\\AppData\\Local\\Temp\\ipykernel_33876\\2655798078.py:7: DeprecationWarning: `trapz` is deprecated. Use `trapezoid` instead, or one of the numerical integration functions in `scipy.integrate`.\n",
      "  I_right=np.trapz(o_new,r_new)\n",
      "C:\\Users\\msy_b\\AppData\\Local\\Temp\\ipykernel_33876\\2359091353.py:3: DeprecationWarning: Conversion of an array with ndim > 0 to a scalar is deprecated, and will error in future. Ensure you extract a single element from your array before performing this operation. (Deprecated NumPy 1.25.)\n",
      "  x[i]=x[i]+null_space[i]*c\n"
     ]
    }
   ],
   "source": [
    "c_2s=false_position_method(S_2, -500, -400, 0, 0.46,1e-4,10000)\n",
    "print(c_2s)"
   ]
  },
  {
   "cell_type": "code",
   "execution_count": 20,
   "metadata": {},
   "outputs": [
    {
     "name": "stdout",
     "output_type": "stream",
     "text": [
      "[   12.93358024  -384.25389636  1277.35314927 -1215.00358566]\n"
     ]
    },
    {
     "name": "stderr",
     "output_type": "stream",
     "text": [
      "C:\\Users\\msy_b\\AppData\\Local\\Temp\\ipykernel_33876\\2655798078.py:7: DeprecationWarning: `trapz` is deprecated. Use `trapezoid` instead, or one of the numerical integration functions in `scipy.integrate`.\n",
      "  I_right=np.trapz(o_new,r_new)\n",
      "C:\\Users\\msy_b\\AppData\\Local\\Temp\\ipykernel_33876\\2359091353.py:3: DeprecationWarning: Conversion of an array with ndim > 0 to a scalar is deprecated, and will error in future. Ensure you extract a single element from your array before performing this operation. (Deprecated NumPy 1.25.)\n",
      "  x[i]=x[i]+null_space[i]*c\n"
     ]
    }
   ],
   "source": [
    "c_2p=false_position_method(P_2, -2000, 00, 1, 0.39,1e-4,1000)\n",
    "print(c_2p)"
   ]
  },
  {
   "cell_type": "code",
   "execution_count": 21,
   "metadata": {},
   "outputs": [
    {
     "name": "stderr",
     "output_type": "stream",
     "text": [
      "C:\\Users\\msy_b\\AppData\\Local\\Temp\\ipykernel_33876\\2655798078.py:7: DeprecationWarning: `trapz` is deprecated. Use `trapezoid` instead, or one of the numerical integration functions in `scipy.integrate`.\n",
      "  I_right=np.trapz(o_new,r_new)\n"
     ]
    },
    {
     "name": "stdout",
     "output_type": "stream",
     "text": [
      "[-42.03067905  78.48269481 -58.82015157  12.3735376 ]\n"
     ]
    },
    {
     "name": "stderr",
     "output_type": "stream",
     "text": [
      "C:\\Users\\msy_b\\AppData\\Local\\Temp\\ipykernel_33876\\2359091353.py:3: DeprecationWarning: Conversion of an array with ndim > 0 to a scalar is deprecated, and will error in future. Ensure you extract a single element from your array before performing this operation. (Deprecated NumPy 1.25.)\n",
      "  x[i]=x[i]+null_space[i]*c\n"
     ]
    }
   ],
   "source": [
    "c_3s=false_position_method(S_3, 0, 500, 0, 1.78,1e-4,1000)\n",
    "print(c_3s)"
   ]
  }
 ],
 "metadata": {
  "kernelspec": {
   "display_name": "Python 3",
   "language": "python",
   "name": "python3"
  },
  "language_info": {
   "codemirror_mode": {
    "name": "ipython",
    "version": 3
   },
   "file_extension": ".py",
   "mimetype": "text/x-python",
   "name": "python",
   "nbconvert_exporter": "python",
   "pygments_lexer": "ipython3",
   "version": "3.12.2"
  }
 },
 "nbformat": 4,
 "nbformat_minor": 2
}
